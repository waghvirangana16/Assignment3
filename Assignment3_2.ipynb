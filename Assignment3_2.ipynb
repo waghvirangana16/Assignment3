{
 "cells": [
  {
   "cell_type": "code",
   "execution_count": 12,
   "id": "721f6f39",
   "metadata": {},
   "outputs": [
    {
     "name": "stdout",
     "output_type": "stream",
     "text": [
      "input string is :1234abcd\n",
      "Reverse of given string is: dcba4321\n"
     ]
    }
   ],
   "source": [
    "#reverse of the string\n",
    "s=input(\"input string is :\")\n",
    "def rev(x):\n",
    "    r=x[::-1]\n",
    "    print(\"Reverse of given string is:\",r)\n",
    "rev(s)\n",
    "\n",
    "\n",
    "    "
   ]
  },
  {
   "cell_type": "code",
   "execution_count": null,
   "id": "2d118088",
   "metadata": {},
   "outputs": [],
   "source": []
  }
 ],
 "metadata": {
  "kernelspec": {
   "display_name": "Python 3 (ipykernel)",
   "language": "python",
   "name": "python3"
  },
  "language_info": {
   "codemirror_mode": {
    "name": "ipython",
    "version": 3
   },
   "file_extension": ".py",
   "mimetype": "text/x-python",
   "name": "python",
   "nbconvert_exporter": "python",
   "pygments_lexer": "ipython3",
   "version": "3.9.12"
  }
 },
 "nbformat": 4,
 "nbformat_minor": 5
}
