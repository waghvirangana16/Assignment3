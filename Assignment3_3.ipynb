{
 "cells": [
  {
   "cell_type": "code",
   "execution_count": 58,
   "id": "c297121f",
   "metadata": {},
   "outputs": [
    {
     "name": "stdout",
     "output_type": "stream",
     "text": [
      "input the string:The quick Brow Fox\n",
      "\n",
      "Number of uppercase characters is: 3\n",
      "\n",
      "Number of lowercase characters is: 12\n"
     ]
    }
   ],
   "source": [
    "#Fun with Characters\n",
    "x=input(\"input the string:\")\n",
    "def aplh(b):\n",
    "    count1=0\n",
    "    count2=0\n",
    "    for i in b:\n",
    "        if i.isupper() is True:\n",
    "            count1=count1+1\n",
    "        elif i.islower() is True:\n",
    "            count2=count2+1\n",
    "    print(\"\\nNumber of uppercase characters is:\",count1)\n",
    "    print(\"\\nNumber of lowercase characters is:\",count2)\n",
    "aplh(x)"
   ]
  },
  {
   "cell_type": "code",
   "execution_count": null,
   "id": "dc950654",
   "metadata": {},
   "outputs": [],
   "source": []
  }
 ],
 "metadata": {
  "kernelspec": {
   "display_name": "Python 3 (ipykernel)",
   "language": "python",
   "name": "python3"
  },
  "language_info": {
   "codemirror_mode": {
    "name": "ipython",
    "version": 3
   },
   "file_extension": ".py",
   "mimetype": "text/x-python",
   "name": "python",
   "nbconvert_exporter": "python",
   "pygments_lexer": "ipython3",
   "version": "3.9.12"
  }
 },
 "nbformat": 4,
 "nbformat_minor": 5
}
